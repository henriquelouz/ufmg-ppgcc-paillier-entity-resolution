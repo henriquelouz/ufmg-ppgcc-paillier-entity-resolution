{
 "cells": [
  {
   "cell_type": "code",
   "execution_count": 68,
   "id": "38503217-c6fe-40d4-9333-5db3cd77f152",
   "metadata": {},
   "outputs": [],
   "source": [
    "import random\n",
    "\n",
    "class Paillier:\n",
    "    def __init__(self): # Construtor\n",
    "        self.pk, self.sk = self.gerar_chaves()\n",
    "\n",
    "    def gerar_primo(self):\n",
    "        while True:\n",
    "            primo = random.getrandbits(1024)\n",
    "            primo |= (1 << (1023)) | 1\n",
    "            if self.checa_primo(primo):\n",
    "                return primo\n",
    "\n",
    "    def checa_primo(self, numero):\n",
    "        if numero <= 1:\n",
    "            return False\n",
    "        if numero <= 3:\n",
    "            return True\n",
    "        for i in range(10):\n",
    "            a = random.randint(2, n - 1)\n",
    "            if pow(a, n - 1, n) != 1:\n",
    "                return False\n",
    "        return True\n",
    "\n",
    "    def gerar_chaves(self):\n",
    "        p, q = self.gerar_primo(), self.gerar_primo()\n",
    "        n = p * q\n",
    "        phi = (p-1) * (q-1)\n",
    "        lmbda = phi # ou, o MMC dos termos da variavel phi\n",
    "        g = n + 1 # ou, um numero inteiro aleatorio entre 0 e n^2\n",
    "        mu = pow(phi, -1, n)\n",
    "\n",
    "        pk = (n, g)\n",
    "        sk = (lmbda, mu)\n",
    "        return pk, sk\n",
    "\n",
    "    def l(self, x, n):\n",
    "        return (x - 1) // n\n",
    "\n",
    "    def encriptar(self, texto):\n",
    "        n, g = self.pk\n",
    "        r = random.randint(1, n-1)\n",
    "        cifra = (pow(g, texto, n*n) * pow(r, n, n*n)) % (n*n)\n",
    "        return cifra\n",
    "\n",
    "    def desencriptar(self, cifra):\n",
    "        n, _ = self.pk\n",
    "        lmbda, mu = self.sk\n",
    "        cifra = pow(cifra, lmbda, n*n)\n",
    "        L = self.l(cifra, n)\n",
    "        texto = (L * mu) % n\n",
    "        return texto\n",
    "\n",
    "    def mod_inverse(self, a, m):\n",
    "        m0, x0, x1 = m, 0, 1\n",
    "        while a > 1:\n",
    "            q = a // m\n",
    "            m, a = a % m, m\n",
    "            x0, x1 = x1 - q * x0, x0\n",
    "        return x1 + m0 if x1 < 0 else x1\n",
    "        \n",
    "    def subtracao_homomorfica(self, ciphertext1, ciphertext2):\n",
    "        n, _ = self.pk\n",
    "        n2 = (n*n)\n",
    "        ciphertext2_inv = self.mod_inverse(ciphertext2, n2)\n",
    "        return (ciphertext1 * ciphertext2_inv) % n2"
   ]
  },
  {
   "cell_type": "code",
   "execution_count": 72,
   "id": "c95e54b5-a9ab-4f2f-bb98-e0d8e7d0ff57",
   "metadata": {},
   "outputs": [
    {
     "data": {
      "text/plain": [
       "200"
      ]
     },
     "execution_count": 72,
     "metadata": {},
     "output_type": "execute_result"
    }
   ],
   "source": [
    "paillier = Paillier()\n",
    "plaintext1 = 210\n",
    "plaintext2 = 10\n",
    "ciphertext1 = paillier.encriptar(plaintext1)\n",
    "ciphertext2 = paillier.encriptar(plaintext2)\n",
    "\n",
    "r = paillier.subtracao_homomorfica(ciphertext1, ciphertext2)\n",
    "paillier.desencriptar(r)"
   ]
  },
  {
   "cell_type": "code",
   "execution_count": 24,
   "id": "7ac80da1-a8af-44f1-ad2d-02fadbab127c",
   "metadata": {},
   "outputs": [
    {
     "data": {
      "text/plain": [
       "116"
      ]
     },
     "execution_count": 24,
     "metadata": {},
     "output_type": "execute_result"
    }
   ],
   "source": [
    "paillier.desencriptar(ciphertext1)"
   ]
  },
  {
   "cell_type": "code",
   "execution_count": 25,
   "id": "21490d14-cc7b-443e-a8ee-73debace1769",
   "metadata": {},
   "outputs": [
    {
     "data": {
      "text/plain": [
       "58"
      ]
     },
     "execution_count": 25,
     "metadata": {},
     "output_type": "execute_result"
    }
   ],
   "source": [
    "paillier.desencriptar(ciphertext2)"
   ]
  }
 ],
 "metadata": {
  "kernelspec": {
   "display_name": "Python 3 (ipykernel)",
   "language": "python",
   "name": "python3"
  },
  "language_info": {
   "codemirror_mode": {
    "name": "ipython",
    "version": 3
   },
   "file_extension": ".py",
   "mimetype": "text/x-python",
   "name": "python",
   "nbconvert_exporter": "python",
   "pygments_lexer": "ipython3",
   "version": "3.12.2"
  }
 },
 "nbformat": 4,
 "nbformat_minor": 5
}
